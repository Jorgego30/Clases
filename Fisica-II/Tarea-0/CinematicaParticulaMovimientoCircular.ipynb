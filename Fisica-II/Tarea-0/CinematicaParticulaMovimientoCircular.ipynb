{
 "cells": [
  {
   "cell_type": "markdown",
   "id": "1a0c038c",
   "metadata": {},
   "source": [
    "# Cinemática Movimiento Circular Plano\n",
    "\n",
    "$\\textbf{Objetivo:}$ obtener la velocidad y la aceleración de una partícula que describe una trayectoria circular, expresada en forma paramétrica en función del tiempo.\n",
    "\n",
    "\n",
    "$\\textbf{Input:}$\n",
    "Plantearemos el problema de manera general a través de una función vectorial, con sus componentes $x$, $y$, $z$, parametrizada en función del tiempo:\n",
    "$$\\vec{r}(t)=x(t) \\, \\hat{i} + y(t) \\, \\hat{j} + z(t) \\, \\hat{k} $$\n",
    "\n",
    "\n",
    "$\\textbf{Procedimiento:}$\n",
    "Calcularemos la velocidad y la aceleración de la partícula, así como sus componentes intrínsecas, a través de las derivadas de la función $\\vec{r}(t)$:\n",
    "$$\\textrm{Velocidad:}\\quad \\vec{v}(t)=\\frac{d\\vec{r}(t)}{dt}=\\dot{\\vec{r}}(t)$$\n",
    "$$\\textrm{Aceleración:}\\quad \\vec{a}(t)=\\frac{d\\vec{v}(t)}{dt}=\\dot{\\vec{v}}(t)=\\ddot{\\vec{r}}(t)$$\n",
    "$$\\textrm{Vector unitario tangencial:}\\quad \\hat{\\tau}(t)=\\frac{\\vec{v}(t)}{|\\vec{v}(t)|}$$\n",
    "\n",
    "$$\\textrm{Aceleración tangencial:}\\quad \\vec{a}_{\\tau}(t)=(\\vec{a} \\cdot \\hat{\\tau}) \\cdot \\hat{\\tau}$$\n",
    "\n",
    "$$\\textrm{Aceleración normal:}\\quad \\vec{a}_{n}(t)=\\vec{a}(t)-\\vec{a}_{\\tau}(t)$$\n",
    "\n",
    "$$\\textrm{Vector unitario normal:}\\quad \\hat{n}(t)=\\frac{\\vec{a}_n(t)}{|\\vec{a}_n(t)|}$$\n",
    "\n",
    "Resolveremos el problema de manera general utilizando <u>cálculo simbólico</u> en Python. De esta manera <u>el código será válido para cualquier tipo de trayectoria</u> con solo cambiar la función $\\vec{r}(t)$. Incluiremos también diferentes representaciones gráficas y simulaciones animadas de los movimientos para ayudar a entender el problema."
   ]
  },
  {
   "cell_type": "markdown",
   "id": "d4656fec",
   "metadata": {},
   "source": [
    "$\\textbf{Paso 1:}$\n",
    "Importamos las librerías que necesitaremos para realizar los cálculos, animaciones y representaciones gráficas. Definimos también una función para controlar un botón que controle la ejecución/pausa de los cálculos y la simulación:"
   ]
  },
  {
   "cell_type": "code",
   "execution_count": null,
   "id": "1e130c8e",
   "metadata": {},
   "outputs": [],
   "source": [
    "from vpython import *\n",
    "import numpy as np\n",
    "import sympy as sp\n",
    "sp.init_printing() # output formateado en latex\n",
    "import sympy.physics.vector as spv\n",
    "import IPython.display as disp\n",
    "\n",
    "run = False\n",
    "def runbutton(b): # Se llama a esta función cuando se hace click en el botón de ejecutar\n",
    "    global run\n",
    "    if run: b.text = 'Iniciar' # b es el botón\n",
    "    else: b.text = 'Pausa'\n",
    "    run = not run"
   ]
  },
  {
   "cell_type": "markdown",
   "id": "7b659bce",
   "metadata": {},
   "source": [
    "$\\textbf{Paso 2:}$\n",
    "Definimos la amplitud y frecuencia del movimiento circular, así como tiempo máximo de nuestra simulación.\n",
    "\n",
    "Definimos la ecuación de la trayectoria parametrizada en función del tiempo, como un movimiento circular en el plano $XY$. Para ello necesitamos definir primero el símbolo $t$ (tiempo) y un sistema de referencia ($R$) que nos permitirá utilizar una base de vectores unitarios en la dirección de los ejes de coordenadas"
   ]
  },
  {
   "cell_type": "code",
   "execution_count": null,
   "id": "22f0021b",
   "metadata": {},
   "outputs": [],
   "source": [
    "A=5; w=2  # parámetros del movimiento circular: amplitud y frecuencia\n",
    "tmax=8; # tiempo máximo de nuestra simulación\n",
    "    \n",
    "t = sp.symbols('t') # Definimos el símbolo t para representar el tiempo\n",
    "R= spv.ReferenceFrame('R') # Definimos un sistema de coordenadas para representar los vectores\n",
    "\n",
    "r_t=A*(-sp.cos(w*t)*R.x+sp.sin(w*t)*R.y) # Aquí definimos nuestra trayectoria\n",
    "\n",
    "disp.display(disp.Math(r'\\vec{r}(t)= '), r_t) # Visualizamos la ecuación de la trayectoria"
   ]
  },
  {
   "cell_type": "code",
   "execution_count": null,
   "id": "455d112c",
   "metadata": {},
   "outputs": [],
   "source": [
    "v_t=r_t.diff(t,R) # derivada en cálculo simbólico para obtener la velocidad a partir de la posición\n",
    "a_t=v_t.diff(t,R) # derivada en cálculo simbólico para obtener la aceleración a partir de la velocidad\n",
    "\n",
    "disp.display(disp.Math(r'\\vec{v}(t)= '), v_t) # Visualizamos la velocidad\n",
    "disp.display(disp.Math(r'\\vec{a}(t)= '), a_t) # Visualizamos la aceleración"
   ]
  },
  {
   "cell_type": "markdown",
   "id": "0cf9d84d",
   "metadata": {},
   "source": [
    "La velocidad siempre debe ser tangente a la posición y por tanto ambos vectores deben ser perpendiculares, por lo que su producto escalar es nulo:"
   ]
  },
  {
   "cell_type": "code",
   "execution_count": null,
   "id": "c4afdcdc",
   "metadata": {},
   "outputs": [],
   "source": [
    "spv.dot(r_t, v_t)"
   ]
  },
  {
   "cell_type": "markdown",
   "id": "ccd9470c",
   "metadata": {},
   "source": [
    "Si queremos un vector unitario tangente a la trayectoria ($\\hat{\\tau}$), sólo tenemos que dividir la velocidad entre su módulo:"
   ]
  },
  {
   "cell_type": "code",
   "execution_count": null,
   "id": "cf1a0b08",
   "metadata": {},
   "outputs": [],
   "source": [
    "tau_t=v_t/v_t.magnitude()\n",
    "disp.display(disp.Math(r'\\hat{\\tau}(t)= '),tau_t)"
   ]
  },
  {
   "cell_type": "markdown",
   "id": "e9cceebb",
   "metadata": {},
   "source": [
    "La componente tangencial de la aceleración se obtiene proyectando la aceleración sobre el vector $\\hat{\\tau}$. En un movimiento circular uniforme la componente tangencial de la aceleración debe ser nula:"
   ]
  },
  {
   "cell_type": "code",
   "execution_count": null,
   "id": "16f6b53a",
   "metadata": {},
   "outputs": [],
   "source": [
    "atau_t=spv.dot(a_t,tau_t)*tau_t\n",
    "disp.display(disp.Math(r'\\vec{a}_{\\tau}(t)= '),atau_t)"
   ]
  },
  {
   "cell_type": "markdown",
   "id": "ec828769",
   "metadata": {},
   "source": [
    "La componente normal de la aceleración se obtiene como la diferencia entre la aceleración y su componente tangencial:"
   ]
  },
  {
   "cell_type": "code",
   "execution_count": null,
   "id": "72eabbc6",
   "metadata": {},
   "outputs": [],
   "source": [
    "atau_n=a_t-atau_t\n",
    "disp.display(disp.Math(r'\\vec{a}_{n}(t)= '),atau_n)"
   ]
  },
  {
   "cell_type": "markdown",
   "id": "ca5f7c2f",
   "metadata": {},
   "source": [
    "$\\textbf{Paso 3:}$\n",
    "Para hacer la simulación vamos a definir una esfera que representará la partícula, a al cual asociaremos un vector velocidad y un vector aceleración para representarlos en la simulación de manera dinámica. Incluimos también el botón de ejecución llamando a la función que definimos al principio del programa.\n",
    "\n",
    "Definimos también gráficas en las que representaremos las componentes $x$ e $y$ de las posiciones y velocidades de la partícula, su trayectoria y su hodógrafa (la gráfica de las componentes de la velocidad)."
   ]
  },
  {
   "cell_type": "code",
   "execution_count": null,
   "id": "ec832268",
   "metadata": {},
   "outputs": [],
   "source": [
    "escena1 = canvas(background=color.white, autoscale=False, width=1000,height=300) # Escenario donde se realiza la simulación\n",
    "\n",
    "tiempo=0 # inicializamos el tiempo\n",
    "\n",
    "# a continuación definimos las componentes x e y de cada magnitud en el instante inicial\n",
    "posx=spv.dot(r_t, R.x).evalf(subs={t: tiempo})\n",
    "posy=spv.dot(r_t, R.y).evalf(subs={t: tiempo})\n",
    "velx=spv.dot(v_t, R.x).evalf(subs={t: tiempo})\n",
    "vely=spv.dot(v_t, R.y).evalf(subs={t: tiempo})\n",
    "acx=spv.dot(a_t, R.x).evalf(subs={t: tiempo})\n",
    "acy=spv.dot(a_t, R.y).evalf(subs={t: tiempo})\n",
    "\n",
    "# vectores iniciales\n",
    "r0=vector(posx, posy, 0)\n",
    "v0=vector(velx,vely,0)\n",
    "a0=vector(acx,acy,0)\n",
    "\n",
    "# definimos la esfera y los vectores v y a\n",
    "bola = sphere(pos=r0, radius=0.4, color=color.red, make_trail=True, emissive=True)\n",
    "bola.v=v0 # asociamos un vector \"v\" a la esfera\n",
    "bola.a=a0 # asociamos un vector \"a\" a la esfera\n",
    "attach_arrow(bola, 'v', scale=0.25, color=color.blue) # vector velocidad en azul para representación\n",
    "attach_arrow(bola, 'a', scale=0.25, color=color.yellow) # vector aceleración en amarillo para representación\n",
    "\n",
    "button(text='Iniciar', bind=runbutton) # Dibujamos el botón de ejecución\n",
    "\n",
    "# definimos las gráficas que representaremos\n",
    "posiciones=graph(title='Posición de la partícula', width=600, height=200,\n",
    "                 xmin=0, xmax=tmax, ymin=-A, ymax=A, align='left',\n",
    "                 xtitle='<i>t</i>', ytitle='<i>Posición</i>')\n",
    "trayectoria=graph(title='Trayectoria de la partícula', width=300, height=200,\n",
    "                  xmin=-A, xmax=A, ymin=-A, ymax=A, align='right',\n",
    "                  xtitle='<i>x</i>', ytitle='<i>y</i>')\n",
    "velocidades=graph(title='Velocidad de la partícula', width=600, height=200,\n",
    "                  xmin=0, xmax=tmax, ymin=-A*w, ymax=A*w, align='left',\n",
    "                  xtitle='<i>t</i>', ytitle='<i>Velocidad</i>')\n",
    "hodografa=graph(title='Hodógrafa de la partícula', width=300, height=200,\n",
    "                xmin=-A*w, xmax=A*w, ymin=-A*w, ymax=A*w, align='right',\n",
    "                xtitle='<i>v<sub>x</sub></i>', ytitle='<i>v<sub>y</sub></i>')\n",
    "\n",
    "x = gcurve(color=color.black, legend=True, label=\"x\", graph=posiciones)\n",
    "y = gcurve(color=color.red, legend=True, label=\"y\", graph=posiciones)\n",
    "trj=gcurve(color=color.black, graph=trayectoria)\n",
    "vx = gcurve(color=color.black, legend=True, label=\"<i>v<sub>x</sub></i>\", graph=velocidades)\n",
    "vy = gcurve(color=color.red, legend=True, label=\"<i>v<sub>y</sub></i>\", graph=velocidades)\n",
    "hod=gcurve(color=color.black, graph=hodografa)\n",
    "\n",
    "# calculamos la posición y velocidad a intervalos de tiempo definidos por la variable dt\n",
    "while (tiempo <tmax): # condiciones para parar la simulación\n",
    "    rate(10) # iteraciones por segundo\n",
    "    if run:\n",
    "        tiempo=tiempo+0.02 # Actualizamos el tiempo\n",
    "        posx=spv.dot(r_t, R.x).evalf(subs={t: tiempo}) # componente x de la posición\n",
    "        posy=spv.dot(r_t, R.y).evalf(subs={t: tiempo}) # componente y de la posición\n",
    "        velx=spv.dot(v_t, R.x).evalf(subs={t: tiempo}) # componente x de la velocidad\n",
    "        vely=spv.dot(v_t, R.y).evalf(subs={t: tiempo}) # componente y de la velocidad\n",
    "        acx=spv.dot(a_t, R.x).evalf(subs={t: tiempo}) # componente x de la aceleración\n",
    "        acy=spv.dot(a_t, R.y).evalf(subs={t: tiempo}) # componente y de la aceleración\n",
    "        bola.a=vector(acx,acy,0) # Actualizamos la aceleración\n",
    "        bola.v=vector(velx,vely,0) # Actualizamos la velocidad\n",
    "        bola.pos=vector(posx,posy,0) # Actualizamos la posición\n",
    "        x.plot(tiempo, posx) # Graficamos la componente x de la posición\n",
    "        y.plot(tiempo, posy) # Graficamos la componente y de la posición\n",
    "        trj.plot(posx,posy) # Gráfica de la trayectoria: x vs y\n",
    "        vx.plot(tiempo, velx) # Graficamos la componente x de la velocidad\n",
    "        vy.plot(tiempo, vely) # Graficamos la componente y de la velocidad\n",
    "        hod.plot(velx,vely) # Hodógrafa: vx vs vy"
   ]
  },
  {
   "cell_type": "markdown",
   "id": "2c453dde",
   "metadata": {},
   "source": [
    "$\\textbf{Paso 4:}$\n",
    "Prueba a cambiar los parámetros del movimiento en el <u>Paso 2</u> (amplitud, frecuencia o tiempo total de la simulación) para ver cómo afectan a la trayectoria.\n",
    "\n",
    "Puedes cambiar también la ecuación de la trayectoria en el <u>Paso 2</u> haciendo que no sea circular."
   ]
  }
 ],
 "metadata": {
  "authors": [
   {
    "name": "Ángel Piñeiro. Física I"
   }
  ],
  "kernelspec": {
   "display_name": "Python 3 (ipykernel)",
   "language": "python",
   "name": "python3"
  },
  "language_info": {
   "codemirror_mode": {
    "name": "ipython",
    "version": 3
   },
   "file_extension": ".py",
   "mimetype": "text/x-python",
   "name": "python",
   "nbconvert_exporter": "python",
   "pygments_lexer": "ipython3",
   "version": "3.10.4"
  },
  "title": "Cinemática del Punto Material"
 },
 "nbformat": 4,
 "nbformat_minor": 5
}

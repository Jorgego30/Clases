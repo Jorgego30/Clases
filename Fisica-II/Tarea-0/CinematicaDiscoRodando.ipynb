{
 "cells": [
  {
   "cell_type": "markdown",
   "id": "0aff61bc",
   "metadata": {},
   "source": [
    "# Cinemática Disco que rueda sin deslizar\n",
    "\n",
    "$\\textbf{Objetivo:}$ Describir el movimiento de un disco que rueda sin deslizar sobre una plataforma horizontal.\n",
    "\n",
    "$\\textbf{Procedimiento:}$\n",
    "El movimiento del centro de masas del disco viene dado por la condición de rodadura sin deslizamiento:\n",
    "\n",
    "$$\\vec{r}_C(t)=\\theta\\, R \\, \\hat{i} = \\omega \\,t \\, R \\, \\hat{i} $$\n",
    "\n",
    "con el sistema de referencia fijo situado en el centro del disco en el instante inicial y con el movimiento en la dirección del eje $x$. La velocidad se calcula derivando la anterior ecuación:\n",
    "\n",
    "$$\\vec{V}_C(t)=\\dot{\\theta} \\, R \\, \\hat{i} = \\omega \\, R \\, \\hat{i} $$\n",
    "\n",
    "La posición de un punto fijo del perímetro del disco viene dado por la siguiente ecuación:\n",
    "\n",
    "$$\\vec{r}_P(t)=\\vec{r}_C(t)+ R \\, cos(\\theta)\\, \\hat{i}+ R \\, sen(\\theta)\\, \\hat{j}$$\n",
    "\n",
    "Si imponemos la condición de movimiento plano general (traslación + rotación) en un sólido rígido:\n",
    "\n",
    "$$\\vec{r}_{ij}=\\vec{r}_{j}-\\vec{r}_{i} \\Rightarrow \\vec{r}_{j}=\\vec{r}_{i}+\\vec{r}_{ij} \\Rightarrow \\vec{v}_{j}=\\vec{v}_{i}+\\vec{v}_{ij} \\Rightarrow \\boxed{\\vec{v}_{j}=\\vec{v}_{i}+ \\vec{\\omega} \\times \\vec{r}_{ij}}$$\n",
    "\n",
    "obtenemos tanto la posición como la velocidad de cualquier punto del perímetro del disco en función del tiempo.\n",
    "\n",
    "$\\textbf{Cálculo de la Base:}$ Lugar geométrico de los puntos del espacio en los que $\\vec{v}=0$\n",
    "\n",
    "Utilizando la ecuación anterior, tomando el eje del disco como punto de referencia, e igualándola a cero:\n",
    "\n",
    "$$0=\\vec{v}_{C}+ \\vec{\\omega} \\times \\vec{r}_{Ci} \\Rightarrow $$\n",
    "Los puntos de la base vienen dados por la ecuación: $$\\vec{r}_B=\\theta \\, R \\, \\hat{i} -R \\, \\hat{j}$$\n",
    "que son los puntos de la recta sobre la que se apoya el disco.\n",
    "\n",
    "$\\textbf{Ruleta:}$ Puntos de la base expresados en un sistema de referencia localizado en el disco. Escogemos un sistema de referencia en el centro del disco y lo expresamos en función del sistema de referencia externo.\n",
    "$$\\hat{i}=cos(\\theta) \\, \\hat{i}^{\\prime} + sen(\\theta) \\, \\hat{j}^{\\prime} $$\n",
    "$$\\hat{j}=-sen(\\theta) \\, \\hat{i}^{\\prime} + cos(\\theta) \\, \\hat{j}^{\\prime} $$\n",
    "Restando la posición del centro del disco y sustituyendo $\\hat{i}$, $\\hat{j}$, los puntos de la ruleta vendrían dados por:\n",
    "\n",
    "$$\\vec{r}^{\\,\\prime}_B= -R \\, (-sen(\\theta) \\, \\hat{i}^{\\prime} + cos(\\theta) \\, \\hat{j}^{\\prime})$$\n",
    "\n",
    "que representan una circunferencia expresada en el sistema de coordenadas interno: \n",
    "\n",
    "$$x^{\\,\\prime\\, 2}+y^{\\,\\prime\\, 2}=R^2$$\n",
    "\n",
    "$\\textbf{NOTA:}$ Si el disco deslizase (o derrapase) la ecuación que describiría el movimiento de su centro sería: \n",
    "$$\\vec{r}_C(t)= a \\,\\theta\\, R \\, \\hat{i} $$\n",
    "donde la constante a sería mayor que cero en caso de deslizamiento y menor que cero en caso de derrapamiento. Además, la variación del ángulo podría ser una función no lineal del tiempo. ¿ Cómo crees que afectarían estos factores al movimiento y al cálculo de la base y de la ruleta?"
   ]
  },
  {
   "cell_type": "code",
   "execution_count": 1,
   "id": "017e371d",
   "metadata": {},
   "outputs": [
    {
     "data": {
      "text/html": [
       "<div id=\"glowscript\" class=\"glowscript\"></div>"
      ],
      "text/plain": [
       "<IPython.core.display.HTML object>"
      ]
     },
     "metadata": {},
     "output_type": "display_data"
    },
    {
     "data": {
      "application/javascript": [
       "if (typeof Jupyter !== \"undefined\") { window.__context = { glowscript_container: $(\"#glowscript\").removeAttr(\"id\")};}else{ element.textContent = ' ';}"
      ],
      "text/plain": [
       "<IPython.core.display.Javascript object>"
      ]
     },
     "metadata": {},
     "output_type": "display_data"
    }
   ],
   "source": [
    "from vpython import *\n",
    "import numpy as np\n",
    "import sympy as sp\n",
    "sp.init_printing() # output formateado en latex\n",
    "import sympy.physics.vector as spv\n",
    "import IPython.display as disp\n",
    "\n",
    "run = False\n",
    "def runbutton(b): # Se llama a esta función cuando se hace click en el botón de ejecutar\n",
    "    global run\n",
    "    if run: b.text = 'Ejecutar' # b es el botón\n",
    "    else: b.text = 'Pausa'\n",
    "    run = not run"
   ]
  },
  {
   "cell_type": "code",
   "execution_count": 2,
   "id": "349c25c0",
   "metadata": {
    "scrolled": true
   },
   "outputs": [
    {
     "data": {
      "text/latex": [
       "$\\displaystyle \\vec{r_C}(t)= $"
      ],
      "text/plain": [
       "<IPython.core.display.Math object>"
      ]
     },
     "metadata": {},
     "output_type": "display_data"
    },
    {
     "data": {
      "image/png": "[encoded data removed]",
      "text/latex": [
       "$\\displaystyle (18 t - 45)\\mathbf{\\hat{s}_x}$"
      ],
      "text/plain": [
       "(18⋅t - 45) s_x"
      ]
     },
     "metadata": {},
     "output_type": "display_data"
    },
    {
     "data": {
      "text/latex": [
       "$\\displaystyle \\vec{r_P}(t)= $"
      ],
      "text/plain": [
       "<IPython.core.display.Math object>"
      ]
     },
     "metadata": {},
     "output_type": "display_data"
    },
    {
     "data": {
      "image/png": "[encoded data removed]",
      "text/latex": [
       "$\\displaystyle (18 t + 6 \\cos{\\left(3 t \\right)} - 45)\\mathbf{\\hat{s}_x} -  6 \\sin{\\left(3 t \\right)}\\mathbf{\\hat{s}_y}$"
      ],
      "text/plain": [
       "(18⋅t + 6⋅cos(3⋅t) - 45) s_x + -6⋅sin(3⋅t) s_y"
      ]
     },
     "metadata": {},
     "output_type": "display_data"
    },
    {
     "data": {
      "text/latex": [
       "$\\displaystyle \\vec{v_P}(t)= $"
      ],
      "text/plain": [
       "<IPython.core.display.Math object>"
      ]
     },
     "metadata": {},
     "output_type": "display_data"
    },
    {
     "data": {
      "image/png": "[encoded data removed]",
      "text/latex": [
       "$\\displaystyle (18 - 18 \\sin{\\left(3 t \\right)})\\mathbf{\\hat{s}_x} -  18 \\cos{\\left(3 t \\right)}\\mathbf{\\hat{s}_y}$"
      ],
      "text/plain": [
       "(18 - 18⋅sin(3⋅t)) s_x + -18⋅cos(3⋅t) s_y"
      ]
     },
     "metadata": {},
     "output_type": "display_data"
    },
    {
     "data": {
      "text/latex": [
       "$\\displaystyle \\vec{a_P}(t)= $"
      ],
      "text/plain": [
       "<IPython.core.display.Math object>"
      ]
     },
     "metadata": {},
     "output_type": "display_data"
    },
    {
     "data": {
      "image/png": "[encoded data removed]",
      "text/latex": [
       "$\\displaystyle -  54 \\cos{\\left(3 t \\right)}\\mathbf{\\hat{s}_x} + 54 \\sin{\\left(3 t \\right)}\\mathbf{\\hat{s}_y}$"
      ],
      "text/plain": [
       "-54⋅cos(3⋅t) s_x + 54⋅sin(3⋅t) s_y"
      ]
     },
     "metadata": {},
     "output_type": "display_data"
    }
   ],
   "source": [
    "omega=-3 # velocidad angular en rad/s. <0 => giro a la derecha\n",
    "R=6 # radio del disco\n",
    "tmax=6 # tiempo máximo de la simulación\n",
    "\n",
    "t = sp.symbols('t') # tiempo\n",
    "S= spv.ReferenceFrame('S') # Sistema de coordenadas para representar los vectores\n",
    "\n",
    "#Definimos las distancias y sus derivadas\n",
    "rC=-45*S.x-omega*t*R*S.x\n",
    "radial=R*(sp.cos(omega*t)*S.x+sp.sin(omega*t)*S.y)\n",
    "rP=rC+radial\n",
    "vC=rC.diff(t,S)\n",
    "vP=rP.diff(t,S)\n",
    "aP=vP.diff(t,S)\n",
    "\n",
    "#imprimimos las funciones\n",
    "disp.display(disp.Math(r'\\vec{r_C}(t)= '), rC)\n",
    "disp.display(disp.Math(r'\\vec{r_P}(t)= '), rP)\n",
    "disp.display(disp.Math(r'\\vec{v_P}(t)= '), vP)\n",
    "disp.display(disp.Math(r'\\vec{a_P}(t)= '), aP)"
   ]
  },
  {
   "cell_type": "code",
   "execution_count": 3,
   "id": "ef52f4b9",
   "metadata": {},
   "outputs": [
    {
     "data": {
      "text/html": [
       "<div id=\"glowscript\" class=\"glowscript\"></div>"
      ],
      "text/plain": [
       "<IPython.core.display.HTML object>"
      ]
     },
     "metadata": {},
     "output_type": "display_data"
    },
    {
     "data": {
      "application/javascript": [
       "if (typeof Jupyter !== \"undefined\") { window.__context = { glowscript_container: $(\"#glowscript\").removeAttr(\"id\")};}else{ element.textContent = ' ';}"
      ],
      "text/plain": [
       "<IPython.core.display.Javascript object>"
      ]
     },
     "metadata": {},
     "output_type": "display_data"
    },
    {
     "data": {
      "application/javascript": [
       "if (typeof Jupyter !== \"undefined\") {require.undef(\"nbextensions/vpython_libraries/glow.min\");}else{element.textContent = ' ';}"
      ],
      "text/plain": [
       "<IPython.core.display.Javascript object>"
      ]
     },
     "metadata": {},
     "output_type": "display_data"
    },
    {
     "data": {
      "application/javascript": [
       "if (typeof Jupyter !== \"undefined\") {require.undef(\"nbextensions/vpython_libraries/glowcomm\");}else{element.textContent = ' ';}"
      ],
      "text/plain": [
       "<IPython.core.display.Javascript object>"
      ]
     },
     "metadata": {},
     "output_type": "display_data"
    },
    {
     "data": {
      "application/javascript": [
       "if (typeof Jupyter !== \"undefined\") {require.undef(\"nbextensions/vpython_libraries/jquery-ui.custom.min\");}else{element.textContent = ' ';}"
      ],
      "text/plain": [
       "<IPython.core.display.Javascript object>"
      ]
     },
     "metadata": {},
     "output_type": "display_data"
    },
    {
     "data": {
      "application/javascript": [
       "if (typeof Jupyter !== \"undefined\") {require([\"nbextensions/vpython_libraries/glow.min\"], function(){console.log(\"GLOW LOADED\");});}else{element.textContent = ' ';}"
      ],
      "text/plain": [
       "<IPython.core.display.Javascript object>"
      ]
     },
     "metadata": {},
     "output_type": "display_data"
    },
    {
     "data": {
      "application/javascript": [
       "if (typeof Jupyter !== \"undefined\") {require([\"nbextensions/vpython_libraries/glowcomm\"], function(){console.log(\"GLOWCOMM LOADED\");});}else{element.textContent = ' ';}"
      ],
      "text/plain": [
       "<IPython.core.display.Javascript object>"
      ]
     },
     "metadata": {},
     "output_type": "display_data"
    },
    {
     "data": {
      "application/javascript": [
       "if (typeof Jupyter !== \"undefined\") {require([\"nbextensions/vpython_libraries/jquery-ui.custom.min\"], function(){console.log(\"JQUERY LOADED\");});}else{element.textContent = ' ';}"
      ],
      "text/plain": [
       "<IPython.core.display.Javascript object>"
      ]
     },
     "metadata": {},
     "output_type": "display_data"
    }
   ],
   "source": [
    "escena1 = canvas(background=color.white, autoscale=False, width=1000,height=200)\n",
    "\n",
    "tiempo=0 # inicializamos el tiempo\n",
    "\n",
    "#Calculamos las componentes de los vectores\n",
    "rCx=spv.dot(rC, S.x).evalf(subs={t: tiempo})\n",
    "rCy=spv.dot(rC, S.y).evalf(subs={t: tiempo})\n",
    "vCx=spv.dot(vC, S.x).evalf(subs={t: tiempo})\n",
    "vCy=spv.dot(vC, S.y).evalf(subs={t: tiempo})\n",
    "rPx=spv.dot(rP, S.x).evalf(subs={t: tiempo})\n",
    "rPy=spv.dot(rP, S.y).evalf(subs={t: tiempo})\n",
    "vPx=spv.dot(vP, S.x).evalf(subs={t: tiempo})\n",
    "vPy=spv.dot(vP, S.y).evalf(subs={t: tiempo})\n",
    "\n",
    "#base = box(canvas=escena1, pos=vec(0,-0.2-R,0), size=vec(50,0.2,10), texture=textures.wood) # Asociamos la plataforma a la variable \"base\"\n",
    "disco=extrusion(path=[vec(0,0,0), vec(0,0,-0.5)],color=color.orange,\n",
    "    shape=[shapes.circle(radius=R), shapes.line(start=(0,0), end=(0,R-0.01), np=20, thickness=0.2)],\n",
    "                pos=vec(rCx,rCy,0), align='left')\n",
    "\n",
    "# Dibujamos el eje de rotación y colocamos el vector velocidad y un vector radial hacia un punto fijo del perímetro\n",
    "eje=cylinder(canvas=escena1,pos=disco.pos+vec(0,0,1),axis=vector(0,0,-2), radius=1, color=color.red, make_trail=True, emissive=True)\n",
    "eje.v=vector(vCx,vCy,0)\n",
    "attach_arrow(eje, 'v', scale=0.2, color=color.blue, shaftwidth=0.5) # vector velocidad en azul para representación\n",
    "\n",
    "# Dibujamos un punto del perímetro del disco y le pegamos su vector velocidad\n",
    "borde=cylinder(canvas=escena1,pos=vec(rPx,rPy,0.5),axis=vector(0,0,-1), radius=0.2, color=color.red, make_trail=True, emissive=True)\n",
    "borde.v=vec(vPx,vPy,0)\n",
    "attach_arrow(borde, 'v', scale=0.2, color=color.blue, shaftwidth=0.5) # vector velocidad en azul para representación\n",
    "\n",
    "button(text='Ejecutar', bind=runbutton) # Dibujamos el botón de ejecución\n",
    "\n",
    "base=graph(title='Curva Polar Fija (Base)', width=450, height=350,\n",
    "                  xmin=0, #xmax=30, #ymin=-R-1, ymax=R+1, \n",
    "                  align='left', xtitle='<i>x</i>', ytitle='<i>y</i>')\n",
    "ruleta=graph(title='Curva Polar Móvil (Ruleta)', width=450, height=350,\n",
    "                xmin=-R-1, xmax=R+1, ymin=-R-1, ymax=R+1, \n",
    "                align='right', xtitle=\"<i>x\\'</i>\", ytitle='<i>y\\'</i>')\n",
    "\n",
    "b = gcurve(color=color.black, legend=True, label=\"\", graph=base)\n",
    "r = gcurve(color=color.black, legend=True, label=\"\", graph=ruleta)\n",
    "\n",
    "dt=0.05\n",
    "for i in range(0,int(tmax/dt)):\n",
    "    rate(10)\n",
    "    if run:\n",
    "        tiempo=tiempo+dt # Actualizamos el tiempo\n",
    "        ang=omega*dt\n",
    "        #\n",
    "        rCx=spv.dot(rC, S.x).evalf(subs={t: tiempo})\n",
    "        rCy=spv.dot(rC, S.y).evalf(subs={t: tiempo})\n",
    "        vCx=spv.dot(vC, S.x).evalf(subs={t: tiempo})\n",
    "        vCy=spv.dot(vC, S.y).evalf(subs={t: tiempo})\n",
    "        rPx=spv.dot(rP, S.x).evalf(subs={t: tiempo})\n",
    "        rPy=spv.dot(rP, S.y).evalf(subs={t: tiempo})\n",
    "        vPx=spv.dot(vP, S.x).evalf(subs={t: tiempo})\n",
    "        vPy=spv.dot(vP, S.y).evalf(subs={t: tiempo})\n",
    "        #\n",
    "        b.plot(-omega*tiempo*R, -R)\n",
    "        r.plot(R*sp.sin(omega*tiempo), R*sp.cos(omega*tiempo))\n",
    "        disco.pos=vec(rCx,rCy,0)\n",
    "        disco.rotate(angle=ang, axis=vec(0,0,1), origin=disco.pos)\n",
    "        eje.pos=disco.pos+vec(0,0,+1)\n",
    "        borde.pos=vec(rPx,rPy,0.5)\n",
    "        borde.v=vec(vPx,vPy,0)"
   ]
  },
  {
   "cell_type": "code",
   "execution_count": null,
   "id": "62d0c62f",
   "metadata": {},
   "outputs": [],
   "source": []
  }
 ],
 "metadata": {
  "authors": [
   {
    "name": "Ángel Piñeiro. Física I"
   }
  ],
  "kernelspec": {
   "display_name": "Python 3 (ipykernel)",
   "language": "python",
   "name": "python3"
  },
  "language_info": {
   "codemirror_mode": {
    "name": "ipython",
    "version": 3
   },
   "file_extension": ".py",
   "mimetype": "text/x-python",
   "name": "python",
   "nbconvert_exporter": "python",
   "pygments_lexer": "ipython3",
   "version": "3.8.10"
  },
  "title": "Cinemática de un Disco Rodando"
 },
 "nbformat": 4,
 "nbformat_minor": 5
}

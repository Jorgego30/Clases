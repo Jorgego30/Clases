{
 "cells": [
  {
   "cell_type": "markdown",
   "id": "b28f41dd",
   "metadata": {},
   "source": [
    "# Cinemática Caída Libre con Velocidad inicial $\\vec{v}_0$\n",
    "\n",
    "$\\textbf{Objetivo:}$ Describir el movimiento de una partícula en caída libre, es decir sometida a la aceleración gravitatoria, partiendo desde una plataforma con velocidad inicial $\\vec{v}_0$."
   ]
  },
  {
   "cell_type": "markdown",
   "id": "0f293fba",
   "metadata": {},
   "source": [
    "$\\textbf{Paso 1:}$\n",
    "Importamos las librerías que necesitaremos para realizar los cálculos, animaciones y representaciones gráficas. Definimos también una función para controlar un botón que controle la ejecución/pausa de los cálculos y la simulación:"
   ]
  },
  {
   "cell_type": "code",
   "execution_count": 1,
   "id": "daaeb1e2",
   "metadata": {},
   "outputs": [
    {
     "data": {
      "text/html": [
       "<div id=\"glowscript\" class=\"glowscript\"></div>"
      ],
      "text/plain": [
       "<IPython.core.display.HTML object>"
      ]
     },
     "metadata": {},
     "output_type": "display_data"
    },
    {
     "data": {
      "application/javascript": [
       "if (typeof Jupyter !== \"undefined\") { window.__context = { glowscript_container: $(\"#glowscript\").removeAttr(\"id\")};}else{ element.textContent = ' ';}"
      ],
      "text/plain": [
       "<IPython.core.display.Javascript object>"
      ]
     },
     "metadata": {},
     "output_type": "display_data"
    }
   ],
   "source": [
    "from vpython import *\n",
    "import numpy as np\n",
    "import sympy as sp\n",
    "sp.init_printing() # output formateado en latex\n",
    "import sympy.physics.vector as spv\n",
    "import IPython.display as disp\n",
    "\n",
    "run = False\n",
    "def runbutton(b): # Se llama a esta función cuando se hace click en el botón de ejecutar\n",
    "    global run\n",
    "    if run: b.text = 'Ejecutar' # b es el botón\n",
    "    else: b.text = 'Pausa'\n",
    "    run = not run"
   ]
  },
  {
   "cell_type": "markdown",
   "id": "114d8ff6",
   "metadata": {},
   "source": [
    "$\\textbf{Paso 2:}$\n",
    "Simularemos una trayectoria de caída libre:\n",
    "$$\\vec{a}=-9.8\\, \\hat{j} \\, m/s^2$$\n",
    "asumiendo que el eje $y$ es el eje vertical) para una partícula que parte de una velocidad inicial predefinida $\\vec{v}_0$. En este caso no necesitamos cálculo simbólico ya que la ecuación de la trayectoria es bien conocida:\n",
    "$$\\vec{r}(t)=\\vec{r}_0+\\vec{v}_0\\,t+1/2 \\,\\vec{a}\\,t^2$$\n",
    "\n",
    "Necesitamos entonces definir la posición y velocidad inicial de la partícula, así como el vector aceleración:"
   ]
  },
  {
   "cell_type": "code",
   "execution_count": 2,
   "id": "1cba60a7",
   "metadata": {},
   "outputs": [],
   "source": [
    "r0=vector(-14,-5,0)\n",
    "v0=vector(2,20,0)\n",
    "a=vector(0,-9.806,0)"
   ]
  },
  {
   "cell_type": "markdown",
   "id": "eefd1785",
   "metadata": {},
   "source": [
    "$\\textbf{Paso 3:}$\n",
    "Para hacer la simulación vamos a definir una esfera que representará la partícula y una plataforma desde la cuál ésta iniciará el movimiento. Asociamos a la esfera un vector velocidad y un vector aceleración para representarlos en la simulación de manera dinámica. Incluimos también el botón de ejecución llamando a la función que definimos al principio del programa.\n",
    "\n",
    "Definimos también gráficas en las que representaremos las componentes $x$ e $y$ de las posiciones y velocidades de la partícula, su trayectoria y su hodógrafa (la gráfica de las componentes de la velocidad).\n",
    "\n",
    "Se inicializa el tiempo a 0 y se ejecuta la simulación calculando la posición y la velocidad cada 0.005 segundos. La simulación termina cuando la esfera choca contra la plataforma o cuando la componente $x$ de la partícula es mayor que la longitud de la plataforma. Las gráficas se dibujan a tiempo real.\n",
    "\n",
    "<b>OJO!! aquí es donde introducimos la ecuación de la trayectoria!</b>:"
   ]
  },
  {
   "cell_type": "code",
   "execution_count": 3,
   "id": "6096d8d2",
   "metadata": {},
   "outputs": [
    {
     "data": {
      "text/html": [
       "<div id=\"glowscript\" class=\"glowscript\"></div>"
      ],
      "text/plain": [
       "<IPython.core.display.HTML object>"
      ]
     },
     "metadata": {},
     "output_type": "display_data"
    },
    {
     "data": {
      "application/javascript": [
       "if (typeof Jupyter !== \"undefined\") { window.__context = { glowscript_container: $(\"#glowscript\").removeAttr(\"id\")};}else{ element.textContent = ' ';}"
      ],
      "text/plain": [
       "<IPython.core.display.Javascript object>"
      ]
     },
     "metadata": {},
     "output_type": "display_data"
    },
    {
     "data": {
      "application/javascript": [
       "if (typeof Jupyter !== \"undefined\") {require.undef(\"nbextensions/vpython_libraries/glow.min\");}else{element.textContent = ' ';}"
      ],
      "text/plain": [
       "<IPython.core.display.Javascript object>"
      ]
     },
     "metadata": {},
     "output_type": "display_data"
    },
    {
     "data": {
      "application/javascript": [
       "if (typeof Jupyter !== \"undefined\") {require.undef(\"nbextensions/vpython_libraries/glowcomm\");}else{element.textContent = ' ';}"
      ],
      "text/plain": [
       "<IPython.core.display.Javascript object>"
      ]
     },
     "metadata": {},
     "output_type": "display_data"
    },
    {
     "data": {
      "application/javascript": [
       "if (typeof Jupyter !== \"undefined\") {require.undef(\"nbextensions/vpython_libraries/jquery-ui.custom.min\");}else{element.textContent = ' ';}"
      ],
      "text/plain": [
       "<IPython.core.display.Javascript object>"
      ]
     },
     "metadata": {},
     "output_type": "display_data"
    },
    {
     "data": {
      "application/javascript": [
       "if (typeof Jupyter !== \"undefined\") {require([\"nbextensions/vpython_libraries/glow.min\"], function(){console.log(\"GLOW LOADED\");});}else{element.textContent = ' ';}"
      ],
      "text/plain": [
       "<IPython.core.display.Javascript object>"
      ]
     },
     "metadata": {},
     "output_type": "display_data"
    },
    {
     "data": {
      "application/javascript": [
       "if (typeof Jupyter !== \"undefined\") {require([\"nbextensions/vpython_libraries/glowcomm\"], function(){console.log(\"GLOWCOMM LOADED\");});}else{element.textContent = ' ';}"
      ],
      "text/plain": [
       "<IPython.core.display.Javascript object>"
      ]
     },
     "metadata": {},
     "output_type": "display_data"
    },
    {
     "data": {
      "application/javascript": [
       "if (typeof Jupyter !== \"undefined\") {require([\"nbextensions/vpython_libraries/jquery-ui.custom.min\"], function(){console.log(\"JQUERY LOADED\");});}else{element.textContent = ' ';}"
      ],
      "text/plain": [
       "<IPython.core.display.Javascript object>"
      ]
     },
     "metadata": {},
     "output_type": "display_data"
    }
   ],
   "source": [
    "escena1 = canvas(background=color.white, autoscale=False, width=1000,height=300) # Escenario donde se realiza la simulación\n",
    "bola = sphere(canvas=escena1, pos=r0, radius=0.4, color=color.red, make_trail=True, emissive=True, align='left')\n",
    "bola.v=v0 # asociamos un vector \"v\" a la esfera\n",
    "bola.a=a # asociamos un vector \"a\" a la esfera\n",
    "\n",
    "attach_arrow(bola, 'v', scale=0.5, color=color.blue) # vector velocidad en azul para representación\n",
    "attach_arrow(bola, 'a', scale=0.5, color=color.yellow) # vector aceleración en amarillo para representación\n",
    "\n",
    "posicionbase=vector(0,-5,0) # localización de la plataforma (coordenadas de su centro geométrico)\n",
    "tamanhobase=vector(30,0.2,10) # Tamaño de la plataforma en las 3 dimensiones\n",
    "base = box(canvas=escena1, pos=posicionbase, size=tamanhobase, texture=textures.wood, align='left') # Asociamos la plataforma a la variable \"base\"\n",
    "\n",
    "button(text='Ejecutar', bind=runbutton) # Dibujamos el botón de ejecución\n",
    "\n",
    "# Definimos los gráficos que representaremos\n",
    "posiciones=graph(title='Posición de la partícula', width=600, height=200,\n",
    "                 xtitle='<i>t</i>', ytitle='<i>Posición</i>', align='left')\n",
    "trayectoria=graph(title='Trayectoria de la partícula', width=300, height=200, \n",
    "                  xtitle='<i>x</i>', ytitle='<i>y</i>', align='right')\n",
    "velocidades=graph(title='Velocidad de la partícula', width=600, height=200,\n",
    "                  xtitle='<i>t</i>', ytitle='<i>Velocidad</i>', align='left')\n",
    "hodografa=graph(title='Hodógrafa de la partícula', width=300, height=200,\n",
    "                xtitle='<i>v<sub>x</sub></i>', ytitle='<i>v<sub>y</sub></i>', align='right')\n",
    "\n",
    "x = gcurve(color=color.black, legend=True, label=\"x\", graph=posiciones)\n",
    "y = gcurve(color=color.red, legend=True, label=\"y\", graph=posiciones)\n",
    "trj=gcurve(color=color.black, graph=trayectoria)\n",
    "vx = gcurve(color=color.black, legend=True, label=\"<i>v<sub>x</sub></i>\", graph=velocidades)\n",
    "vy = gcurve(color=color.red, legend=True, label=\"<i>v<sub>y</sub></i>\", graph=velocidades)\n",
    "hod=gcurve(color=color.black, graph=hodografa)\n",
    "\n",
    "t=0; dt=0.005 # inicializamos el tiempo y el paso de tiempo\n",
    "\n",
    "# calculamos la posición y velocidad a intervalos de tiempo definidos por la variable dt\n",
    "while bola.pos.x < tamanhobase.x*0.5 and bola.pos.y > posicionbase.y-0.1: # condiciones para parar la simulación\n",
    "    rate(50) # iteraciones por segundo\n",
    "    if run:\n",
    "        bola.v=bola.v+a*dt # Actualizamos la velocidad\n",
    "        bola.pos=bola.pos+bola.v*dt+0.5*a*dt**2 # Ecuación de la trayectoria para un movimiento de caída libre\n",
    "        y.plot(t, bola.pos.y-r0.y) # Graficamos la componente y de la posición\n",
    "        x.plot(t, bola.pos.x-r0.x) # Graficamos la componente x de la posición\n",
    "        trj.plot(bola.pos.x,bola.pos.y) # Gráfica de la trayectoria:x vs y\n",
    "        vx.plot(t, bola.v.x) # Graficamos la componente x de la velocidad\n",
    "        vy.plot(t, bola.v.y) # Graficamos la componente y de la velocidad\n",
    "        hod.plot(bola.v.x, bola.v.y) # Hodógrafa: vx vs vy\n",
    "        t=t+dt\n",
    "        if bola.pos.y < posicionbase.y-0.1: # si choca con la plataforma rebota\n",
    "            bola.v.y=np.abs(bola.v.y) # rebote elástico\n",
    "            bola.pos.y=posicionbase.y # para que no se quede atrapado en el condicional\n",
    "        \n"
   ]
  },
  {
   "cell_type": "code",
   "execution_count": null,
   "id": "61341e00",
   "metadata": {},
   "outputs": [],
   "source": []
  }
 ],
 "metadata": {
  "authors": [
   {
    "name": "Ángel Piñeiro. Física I"
   }
  ],
  "kernelspec": {
   "display_name": "Python 3 (ipykernel)",
   "language": "python",
   "name": "python3"
  },
  "language_info": {
   "codemirror_mode": {
    "name": "ipython",
    "version": 3
   },
   "file_extension": ".py",
   "mimetype": "text/x-python",
   "name": "python",
   "nbconvert_exporter": "python",
   "pygments_lexer": "ipython3",
   "version": "3.8.10"
  },
  "title": "Cinemática del Punto Material"
 },
 "nbformat": 4,
 "nbformat_minor": 5
}
